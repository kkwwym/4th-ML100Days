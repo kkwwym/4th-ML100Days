{
 "cells": [
  {
   "cell_type": "markdown",
   "metadata": {},
   "source": [
    "作業一\n",
    "請寫一個函式用來計算 Mean Square Error"
   ]
  },
  {
   "cell_type": "code",
   "execution_count": 1,
   "metadata": {},
   "outputs": [],
   "source": [
    "import numpy as np\n",
    "import matplotlib as plt"
   ]
  },
  {
   "cell_type": "code",
   "execution_count": 2,
   "metadata": {},
   "outputs": [],
   "source": [
    "def mean_sqare_error(y,yp):\n",
    "    '''\n",
    "    計算MSE\n",
    "    Args:\n",
    "        -y:實際值\n",
    "        -yp:預測值\n",
    "    Return:\n",
    "        -mse:MSE\n",
    "    ''' \n",
    "    mse=MSE=sum((y-yp)**2)/len(y)\n",
    "    return mse\n"
   ]
  },
  {
   "cell_type": "markdown",
   "metadata": {},
   "source": [
    "作業二\n",
    "請上 Kaggle, 在 Competitions 或 Dataset 中找一組競賽或資料並寫下：\n",
    "1. 你選的這組資料為何重要\n",
    "2. 資料從何而來 (tips: 譬如提供者是誰、以什麼方式蒐集)\n",
    "3. 蒐集而來的資料型態為何\n",
    "4. 這組資料想解決的問題如何評估"
   ]
  },
  {
   "cell_type": "markdown",
   "metadata": {},
   "source": [
    "本次挑選的資料為一組訂房需求的資料，主要針對市區型飯店及觀光地區的飯店以訂房人數包含大人小孩、停留天數、訂房時間、車位使用、餐點供應等\n",
    "1.重要之處在於可利用於各飯店在在不同節日的定房需求、飯店業者考量興建飯店類型於市區或是旅遊景點等\n",
    "2.資料為訂房網站提供，以實際訂房紀錄作為資料搜集\n",
    "3.資料型態包含結構化的數值，亦有非結構化的圖表顯示\n",
    "4.評估對於不同飯店及時節人數的需求"
   ]
  },
  {
   "cell_type": "markdown",
   "metadata": {},
   "source": [
    "作業三\n",
    "想像你經營一個自由載客車隊，你希望能透過數據分析以提升業績，請你思考並描述你如何規劃整體的分析/解決方案：\n",
    "1. 核心問題為何 (tips：如何定義 「提升業績 & 你的假設」)\n",
    "2. 資料從何而來 (tips：哪些資料可能會對你想問的問題產生影響 & 資料如何蒐集)\n",
    "3. 蒐集而來的資料型態為何\n",
    "4. 你要回答的問題，其如何評估 (tips：你的假設如何驗證)"
   ]
  },
  {
   "cell_type": "markdown",
   "metadata": {},
   "source": [
    "1.考慮在區域及車輛分配上做最大利用化以提高載客量並同時減少成本\n",
    "2.網站的訂車區域數量及客戶等待時間\n",
    "3.結構化的數據資料\n",
    "4.透過等待時間可了解一區的車輛使用需求過剩或過少、利用訂車數量可了解區域使用自用載客車之普及程度，藉上述兩者已調配車輛\n"
   ]
  }
 ],
 "metadata": {
  "kernelspec": {
   "display_name": "Python 3",
   "language": "python",
   "name": "python3"
  },
  "language_info": {
   "codemirror_mode": {
    "name": "ipython",
    "version": 3
   },
   "file_extension": ".py",
   "mimetype": "text/x-python",
   "name": "python",
   "nbconvert_exporter": "python",
   "pygments_lexer": "ipython3",
   "version": "3.7.4"
  }
 },
 "nbformat": 4,
 "nbformat_minor": 2
}
